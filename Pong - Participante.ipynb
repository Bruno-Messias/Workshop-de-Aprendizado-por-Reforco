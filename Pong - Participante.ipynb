{
 "cells": [
  {
   "cell_type": "markdown",
   "metadata": {},
   "source": [
    "# 🎮 Workshop de Introdução ao Aprendizado por Reforço\n",
    "⠀\n",
    "\n",
    "Bem vindes ao **Workshop de Introdução ao Aprendizado por Reforço**, organizado pelo Grupo Turing! \n",
    "\n",
    "O objetivo deste evento é ensinar o básico necessário da área de Aprendizado por Reforço utilizando um dos maiores clássicos da história dos video-games: ***Pong***.\n",
    "\n",
    "![Pong](https://media2.giphy.com/media/aTGwuEFyg6d8c/giphy.gif)"
   ]
  },
  {
   "cell_type": "markdown",
   "metadata": {},
   "source": [
    "## 🏓 Sobre o Pong\n",
    "\n",
    "Começaremos falando sobre o problema, ou seja, sobre o jogo Pong. Este que foi o primeiro jogo de video-game lucrativo da história, publicado em 1972, constando 48 anos de legado.\n",
    "\n",
    "Pong simula uma partida de tênis, existem duas \"raquetes\" e uma bola, e o objetivo de cada uma das raquetes é não somente evitar que a bola passe por ela, como também fazer com que esta passe pela linha que a outra raquete protege, criando assim a premissa que sustenta o interesse pelo jogo. Queremos então desenvolver um algoritmo capaz de - sem nenhuma explicação adicional - maximizar as suas recompensas, sendo as ações, os estados e as recompensas, todas relativas ao jogo Pong. Teremos no final, portanto, um modelo treinado capaz de bom desempenho dentro do ambiente. "
   ]
  },
  {
   "cell_type": "markdown",
   "metadata": {},
   "source": [
    "## 💻 Programando..."
   ]
  },
  {
   "cell_type": "markdown",
   "metadata": {},
   "source": [
    "### Importando o Gym\n",
    "\n",
    "O **[Gym](https://gym.openai.com/)** é uma biblioteca desenvolvida pela OpenAI que contém várias implementações prontas de ambientes de Aprendizagem por Reforço. Ela é muito utilizada quando se quer testar um algoritmo de agente sem ter o trabalho de programar seu próprio ambiente.\n",
    "\n",
    "<img src=\"https://user-images.githubusercontent.com/10624937/42135602-b0335606-7d12-11e8-8689-dd1cf9fa11a9.gif\" alt=\"Exemplos de Ambientes do Gym\" class=\"inline\"/>\n",
    "<figcaption>Exemplo de Ambientes do Gym</figcaption>\n",
    "<br>\n",
    "\n",
    "Para se ter acesso a esses ambientes, basta importar o Gym da seguinte forma:"
   ]
  },
  {
   "cell_type": "code",
   "execution_count": 1,
   "metadata": {},
   "outputs": [],
   "source": [
    "import gym"
   ]
  },
  {
   "cell_type": "markdown",
   "metadata": {},
   "source": [
    "### O que é um Ambiente?\n",
    "\n",
    "Um **Ambiente** de Aprendizagem por Reforço é um espaço que representa o nosso problema, é o objeto com o qual o nosso agente deve interagir para cumprir sua função. Isso significa que o agente toma **ações** nesse ambiente, e recebe **recompensas** dele com base na qualidade de sua tomada de decisões.\n",
    "\n",
    "Todos os ambientes são dotados de um **espaço de observações**, que é a forma pela qual o agente recebe informações e deve se basear para a tomada de decisões, e um **espaço de ações**, que especifica as ações possíveis do agente. No xadrez, por exemplo, o espaço de observações seria o conjunto de todas as configurações diferentes do tabuleiro, e o espaço de ações seria o conjunto de todos os movimentos permitidos.\n",
    "\n",
    "<img src=\"https://www.raspberrypi.org/wp-content/uploads/2016/08/giphy-1-1.gif\" alt=\"Uma Ação do Xadrez\" class=\"inline\"/>\n",
    "\n",
    "### Como Funciona um Ambiente do Gym?\n",
    "\n",
    "Agora que você já sabe o que é um ambiente, é preciso entender como nosso agente interage efetivamente com ele. Todos os ambientes do Gym possuem alguns métodos simples para facilitar a comunicação com eles:\n",
    "\n",
    "<br>\n",
    "\n",
    "| Método               | Funcionalidade                                          |\n",
    "| :------------------- |:------------------------------------------------------- |\n",
    "| reset()              | Inicializa o ambiente e recebe a observação inicial     |\n",
    "| step(action)         | Executa uma ação e recebe a observação e a recompensa   |\n",
    "| render()             | Renderiza o ambiente                                    |\n",
    "| close()              | Fecha o ambiente                                        |\n",
    "\n",
    "<br>\n",
    "\n",
    "Assim, o código para interagir com o ambiente costuma seguir o seguinte modelo:\n",
    "\n",
    "---\n",
    "\n",
    "```python\n",
    "ambiente = gym.make(\"Nome do Ambiente\")                         # Cria o ambiente\n",
    "observação = ambiente.reset()                                   # Inicializa o ambiente\n",
    "acabou = False\n",
    "\n",
    "while not acabou:\n",
    "    ambiente.render()                                           # Renderiza o ambiente\n",
    "    observação, recompensa, acabou, info = ambiente.step(ação)  # Executa uma ação\n",
    "    \n",
    "ambiente.close()                                                # Fecha o ambiente\n",
    "```\n",
    "\n",
    "---"
   ]
  },
  {
   "cell_type": "markdown",
   "metadata": {},
   "source": [
    "### Criando um Ambiente\n",
    "\n",
    "Para utilizar um dos ambientes do Gym, nós utilizamos a função ```gym.make()```, passando o nome do ambiente desejado como parâmetro e guardando seu valor retornado em uma variável que chamaramos de ```env```. A lista com todos os ambiente pode ser encontrada [aqui](https://gym.openai.com/envs/#classic_control)."
   ]
  },
  {
   "cell_type": "code",
   "execution_count": 2,
   "metadata": {},
   "outputs": [
    {
     "data": {
      "text/plain": [
       "[0]"
      ]
     },
     "execution_count": 2,
     "metadata": {},
     "output_type": "execute_result"
    }
   ],
   "source": [
    "env = gym.make(\"pong:turing-easy-v0\")\n",
    "env.seed(0)"
   ]
  },
  {
   "cell_type": "markdown",
   "metadata": {},
   "source": [
    "TODO: Trocar para Pong\n",
    "\n",
    "Nesse caso, nós vamos utilizar o ambiente ```CartPole-v1```, um ambiente bem simples que modela um pêndulo invertido em cima de um carrinho buscando seu estado de equilíbrio.\n",
    "\n",
    "<img src=\"https://miro.medium.com/max/1200/1*jLj9SYWI7e6RElIsI3DFjg.gif\" width=\"400px\" alt=\"Ambiente do CartPole-v1\" class=\"inline\"/>\n",
    "\n",
    "#### CartPole\n",
    "\n",
    "Antes de treinar qualquer agente, primeiro é preciso entender melhor quais as características do nosso ambiente.\n",
    "\n",
    "O **Espaço de Observação** do CartPole é definido por 4 informações:\n",
    "\n",
    "<br>\n",
    "\n",
    "|     | Informação                         | Min     | Max    |\n",
    "| :-- | :--------------------------------- | :-----: | :----: |\n",
    "| 0   | Posição do Carrinho                | -4.8    | 4.8    |\n",
    "| 1   | Velocidade do Carrinho             | -Inf    | Inf    |\n",
    "| 2   | Ângulo da Barra                    | -24 deg | 24 deg |\n",
    "| 3   | Velocidade na Extremidade da Barra | -Inf    | Inf    |\n",
    "\n",
    "<br>\n",
    "\n",
    "Dessa forma, a cada instante recebemos uma lista da observação com o seguinte formato:"
   ]
  },
  {
   "cell_type": "code",
   "execution_count": 3,
   "metadata": {
    "scrolled": false
   },
   "outputs": [
    {
     "name": "stdout",
     "output_type": "stream",
     "text": [
      "[ 4.4226079e+00  1.6426810e+38  2.2506310e-01 -1.2768003e+38]\n"
     ]
    }
   ],
   "source": [
    "print(env.observation_space.sample())"
   ]
  },
  {
   "cell_type": "markdown",
   "metadata": {},
   "source": [
    "Já o **Espaço de Ação** é composto por duas ações únicas: mover o carrinho para a **esquerda** ou para a **direita**.\n",
    "\n",
    "Quando queremos mover o carrinho para a esquerda, fazemos um `env.step(0)`; quando queremos movê-lo para a direita, enviamos um `env.step(1)`"
   ]
  },
  {
   "cell_type": "code",
   "execution_count": 4,
   "metadata": {},
   "outputs": [
    {
     "name": "stdout",
     "output_type": "stream",
     "text": [
      "0\n"
     ]
    }
   ],
   "source": [
    "print(env.action_space.sample())"
   ]
  },
  {
   "cell_type": "code",
   "execution_count": 1,
   "metadata": {},
   "outputs": [],
   "source": [
    "# Essa função deve rodar um episodio de Pong escolhendo ações aleatórias\n",
    "def rodar_ambiente():\n",
    "    # Criando o ambiente 'pong:turing-easy-v0'\n",
    "    env = gym.make(\"pong:turing-easy-v0\")\n",
    "\n",
    "    # Resete o ambiente e receba o primeiro estado\n",
    "    state = ...\n",
    "\n",
    "    # Inicializando done como false\n",
    "    done = False\n",
    "\n",
    "    # Loop de treino\n",
    "    while not done:\n",
    "        # Escolha uma acao aleatoria\n",
    "        action = ...\n",
    "\n",
    "        # Tome essa acao e receba as informacoes do estado seguinte\n",
    "        next_state, reward, done, info = ...\n",
    "\n",
    "        # Renderize o ambiente\n",
    "        ...\n",
    "\n",
    "        # Atualizando o estado\n",
    "        state = next_state\n",
    "\n",
    "    # Fechando o ambiente\n",
    "    env.close()"
   ]
  },
  {
   "cell_type": "code",
   "execution_count": null,
   "metadata": {},
   "outputs": [],
   "source": [
    "# Testando a função\n",
    "rodar_ambiente()"
   ]
  },
  {
   "cell_type": "markdown",
   "metadata": {},
   "source": [
    "## 👩‍💻 Algoritmo"
   ]
  },
  {
   "cell_type": "markdown",
   "metadata": {},
   "source": [
    "Primeiramente, precisaremos utilizar uma biblioteca chamada ***Numpy*** para auxiliar nas computações. Esta é uma biblioteca do Python capaz de manusear diversas computações matemáticas com maestria e será importante futuramente para o nosso trabalho."
   ]
  },
  {
   "cell_type": "code",
   "execution_count": null,
   "metadata": {},
   "outputs": [],
   "source": [
    "# Importando a biblioteca Numpy\n",
    "import numpy as np"
   ]
  },
  {
   "cell_type": "markdown",
   "metadata": {},
   "source": [
    "Em seguida, é importante definir nossas _variáveis globais_, as quais são responsáveis por regir valores que podem ser ajustados para melhor desempenho do modelo, ou maior velocidade de treinamento. Algumas dessas variáveis apenas farão sentido mais a frente, mas tentaremos dar explicações sucintas para cada uma delas.\n",
    "\n",
    "* \"EPSILON\" será o a variável correspondete à letra grega \"$\\epsilon$\" de mesmo nome, que é a notação usual para a probabilidade de exploração do nosso agente. Para exemplificar a posição do nosso agente, que iluminará a função dessa variável, será dado um exemplo do cotidiano humano: Digamos que sua mãe lhe concede algumas moedas de um real para comprar lanches na escola. Sua escola dispõe de quatro máquinas de alimentos, mas todas elas possuem diferentes probabilidades de lhe conceder chocolates de marcas estranhas das quais você nunca ouviu falar. Como você deve aumentar a sua satisfação (conseguir mais frequentemente os chocolates mais gostosos) com um número finito de recursos (as moedas que você possui) sem nunca saber com certeza o que esperar do seu investimento. Esse problema é famoso na área e é conhecido como _the multi-armed bandit problem_, então como resolvê-lo? Usaremos o algoritmo $\\epsilon$-guloso, o qual nos instrui a inicialmente explorar bastante até existir certo conhecimento do que esperar de cada máquina de chocolate e, conforme é adquirida experiência, certa confiância de que determinada máquina nos fornece com maior frequencia os chocolates de melhor gosto é criada, então a necessidade de explorar irá decrescer. A variável em questão, portanto, representa a probabilidade inicial de tentarmos uma ação aleatória.\n",
    "\n",
    "* \"EPSILON_MIN\", conforme nossa confiança aumenta, será desejável aproveitar nosso conhecimento com maior frequencia do que explorar ainda mais o ambiente. Contudo, sempre fará sentido explorar ao menos um pouco enquanto treinamos o algoritmo e, portanto, é criado um limite inferior para a probabilida de exploração e tal é a função dessa variável.\n",
    "\n",
    "* \"DECAIMENTO\", como explicado, é desejado diminuir a exploração conforme a experiência aumenta. Essa variável é justamente a taxa de decaimento da nossa probabilidade de exploração.\n",
    "\n",
    "* \"ALFA\", algoritmos de aprendizado de máquina costumam precisar de uma forma de serem otimizados. Q-learning trabalha em cima de gradientes, uma entidade matemática que indica a direção para maximizar (ou minimizar) uma função. Dispondo dessa direção, precisamos informar qual deve ser o tamanho do passo a ser dado antes de atualizar a nova \"direção ideal\".\n",
    "\n",
    "* \"GAMA\" é a variável correspondente a letra grega de mesmo nome \"$\\gamma$\", a qual denota o quanto desejamos que nosso algoritmo considere eventos futuros. Se \"$\\gamma = 1$\", nosso algoritmo avaliará que a situação futura ser melhor que a atual é tão importante quanto a recompensa da situação atual em si, por outro lado, se \"$\\gamma = 0$\", os eventos futuros não apresentam importância alguma para nosso algoritmo. \n",
    "\n",
    "* \"N_EPISODIOS\" dita quantas vezes o agente deverá \"reviver\" o ambiente (vitórias e derrotas) antes de acabar seu treinamento.\n",
    "\n",
    "* \"Q\" é um dicionário, ou seja, uma estrtura de dados capaz de buscar elementos de forma rápida. Nós o usaremos para guardar valores relativos às estimativas do algoritmo."
   ]
  },
  {
   "cell_type": "code",
   "execution_count": null,
   "metadata": {},
   "outputs": [],
   "source": [
    "# Constantes da Política Epsilon Greedy\n",
    "# Epsilon: probabilidade de experimentar uma ação aleatória\n",
    "EPSILON = 0.7        # Valor inicial do epsilon\n",
    "EPSILON_MIN = 0.01   # Valor mínimo de epsilon\n",
    "DECAIMENTO = 0.98    # Fator de decaímento do epsilon (por episódio)\n",
    "\n",
    "# Hiperparâmetros do Q-Learning\n",
    "ALFA = 0.05          # Learning rate\n",
    "GAMA = 0.9           # Fator de desconto\n",
    "\n",
    "N_EPISODIOS = 250    # Quantidade de episódios que treinaremos\n",
    "\n",
    "# Dicionário dos valores de Q\n",
    "# Chaves: estados; valores: qualidade Q atribuida a cada ação\n",
    "Q = {}"
   ]
  },
  {
   "cell_type": "markdown",
   "metadata": {},
   "source": [
    "![](https://www.kdnuggets.com/images/reinforcement-learning-fig1-700.jpg)\n",
    "\n",
    "Antes de partir para o código do algoritmo em si, alguns esclarecimentos do ponto de vista do agente sobre o ambiente devem ser feitos. Pong é um jogo simples, consiste em controlar a sua raquete com esperança de maximizar a sua pontuação e manter a do adversário a menor possível. Devemos, contudo, adicionar algum rigor à essa expressão, de forma que o algoritmo seja capaz de lidar com essa informação. \"controlar a raquete\" significa haver três possíveis ações: subir, descer ou não se mover. Cada ação tomada em cada estado deve nos retornar uma recompensa e deve nos levar a um novo estado. A nossa recompensa será de +500 u.r. se pontuarmos, -500 u.r. se pontuarem sobre nós e 0 caso contrário. Finalmente, os estados serão vetores distância entre a raquete a bola, caso jogado no modo fácil."
   ]
  },
  {
   "cell_type": "code",
   "execution_count": null,
   "metadata": {
    "tags": []
   },
   "outputs": [],
   "source": [
    "# Importando a Biblioteca Gym\n",
    "import gym\n",
    "\n",
    "# Criando o nosso Ambiente: Pong\n",
    "env = gym.make(\"pong:turing-easy-v0\")\n",
    "\n",
    "# Número total de ações: 3\n",
    "# 0 = parado; 1 = baixo; 2 = cima\n",
    "n_acoes = env.action_space.n\n",
    "\n",
    "print('Número de ações:', n_acoes)"
   ]
  },
  {
   "cell_type": "markdown",
   "metadata": {},
   "source": [
    "como foi dito, os estados que o nosso agente utilizará para tomar suas decisões são vetores (\"setas\") que apontam da raquete controlada até a bola, imagine agora o caso onde esses vetores apresentassem apenas seus módulos como números inteiros. Se a nossa tela possuisse 800 u.d. de largura e 600 u.d. de altura, o espaço amostral dos diferentes vetores e, portanto, diferentes estados do ponto de vista do agente seria $2 \\times 800 \\times 600 = 960000$. Para um algoritmo que consiste em guardar estimativas do valor de cada ação para cada estado, esse número de estados exigiria não somente guardar como atualizar cada um desses valores até chegar numa estimativa otimizada para os 3 milhões de valores. Não é o ideal. Para simplificar (e agilizar) a situação, \"discretizar\" os nossos estados é razoável e esperado, faremos com que estados similares o suficiente sejam considerados como iguais e comparilhem das mesmas estimativas (não faz sentido distinguir o vetor (502,234) do vetor (515,222))"
   ]
  },
  {
   "cell_type": "code",
   "execution_count": null,
   "metadata": {},
   "outputs": [],
   "source": [
    "def discretiza_estado(estado):\n",
    "    return tuple(round(x/10) for x in estado)"
   ]
  },
  {
   "cell_type": "markdown",
   "metadata": {},
   "source": [
    "Para o processo de de escolha de ação, é necessário lembrar do dilema entre **exploração** e **exploitação**. O modelo pode explorar o ambiente, realizando novas escolhas que as recompensas naquele instante não indicam como a melhor, mas que podem a resultar em uma recompensa maior, ou o modelo pode aproveitar o conhecimento que já possui, de forma a maximizar a recompensa que receberá no episódio. Porém, é impossível explorar e exploitar em uma mesma ação.\n",
    "\n",
    "De forma a assegurar que o agente busque tanto novas alternativas que podem gerar melhores resultados quanto ser capaz de utilizar o aprendizado obtido de forma a maximizar a sua recompensa, existem diversas estratégias para a escolha de exploração e exploitação. Uma das mais utilizadas, que também vamos utilizar aqui, é a seleção de ações pelo método **\"$\\epsilon$-greedy\"**.\n",
    "\n",
    "A estratégia \"$\\epsilon$-greedy\" está definida da seguinte forma: é retirado um número aleatório, no intervalo entre 0 e 1. caso este número tenha valor inferior ao valor do epsilon, a escolha será de uma ação aleatória, o que configura exploração. Caso este número seja superior ao epsilon, a ação a ser tomada é a que gera a maior recompensa de acordo com os valores da tabela Q.\n",
    "\n",
    "Este valor de $\\epsilon$ não é constante ao longo do treinamento. Inicialmente, este valor é alto, incentivando a maior exploração do ambiente. A medida que o treinamento ocorre, mais informação sobre o ambiente é adquirida, conseguindo uma tabela Q mais representativa da realidade. Dessa forma, quanto mais avançado no treinamento, menor a necessidade de exploração e maior a necessidade de exploitar o conhecimento adquirido para maximizar a recompensa. Esta atualização do $\\epsilon$ é chamada **\"$\\epsilon$-decay\"** (decaimento do epsilon)  "
   ]
  },
  {
   "cell_type": "code",
   "execution_count": 1,
   "metadata": {},
   "outputs": [],
   "source": [
    "def escolhe_acao(env, Q, estado, epsilon):\n",
    "    # Se não conhecermos ainda o estado, inicializamos o Q de cada ação como 0\n",
    "    if estado not in Q.keys(): Q[estado] = [0] * n_acoes\n",
    "\n",
    "    # Escolhemos um número aleatório com \"np.random.random()\"\n",
    "    # Se esse número for menor que epsilon, tomamos uma ação aleatória\n",
    "    if np.random.random() < epsilon:\n",
    "        # Escolhemos uma ação aleatória, com env.action_space.sample()\n",
    "        acao = ...\n",
    "    else:\n",
    "        # Escolhemos a melhor ação para o estado atual, com np.argmax()\n",
    "        acao = ...\n",
    "    return acao"
   ]
  },
  {
   "cell_type": "markdown",
   "metadata": {},
   "source": [
    "Para rodar uma partida, são necessárias algumas etapas. Inicialmente, o ambiente é reiniciado, de forma a inicar um novo episódio. Em seguida, é necessário discretizar o estado, pelos motivos já explicados acima. Esta discretização deve ocorrer toda vez em que estamos em um novo estado.\n",
    "\n",
    "Enquanto o ambiente não chega em seu estado terminal, indicado pela variável \"done\", será feito o processo de escolha de ações e, uma vez escolhida, deve-se receber do ambiente o próximo estado, a recompensa que a ação escolhida gerou, além do sinal se estamos no estado terminal. Todo o processo é repetido novamente para o próximo estado, até o final do episódio.\n",
    "\n",
    "Como explicado na seção sobre a biblioteca \"Gym\", \"env.render()\" tem como papel mostrar o ambiente (neste caso, a partida de Pong)"
   ]
  },
  {
   "cell_type": "code",
   "execution_count": null,
   "metadata": {},
   "outputs": [],
   "source": [
    "def roda_partida(env, Q, renderiza=True):\n",
    "    # Resetamos o ambiente\n",
    "    estado = env.reset()\n",
    "\n",
    "    # Discretizamos o estado\n",
    "    estado = ...\n",
    "    \n",
    "    done = False\n",
    "    retorno = 0\n",
    "    \n",
    "    while not done:\n",
    "        # Escolhemos uma ação\n",
    "        acao = ...\n",
    "\n",
    "        # Tomamos nossa ação escolhida e recebemos informações do próximo estado\n",
    "        prox_estado, recompensa, done, info = ...\n",
    "\n",
    "        # Discretizamos o próximo estado\n",
    "        prox_estado = ...\n",
    "\n",
    "        # Renderizamos o Ambiente\n",
    "        if renderiza:\n",
    "            env.render()\n",
    "\n",
    "        retorno += recompensa\n",
    "        estado = prox_estado\n",
    "\n",
    "    print(f'retorno {retorno:.1f},  '\n",
    "          f'placar {env.score[0]}x{env.score[1]}')\n",
    "    \n",
    "    env.close()"
   ]
  },
  {
   "cell_type": "code",
   "execution_count": null,
   "metadata": {
    "tags": []
   },
   "outputs": [],
   "source": [
    "# Rodamos uma partida de Pong\n",
    "roda_partida(env, Q)"
   ]
  },
  {
   "cell_type": "markdown",
   "metadata": {},
   "source": [
    "## 🏋️‍♀️ Treinamento\n",
    "\n",
    "TODO: Falar de Treinamento"
   ]
  },
  {
   "cell_type": "markdown",
   "metadata": {},
   "source": [
    "TODO: Explicar Bellman (o básico, já foi abordado antes)"
   ]
  },
  {
   "cell_type": "code",
   "execution_count": null,
   "metadata": {},
   "outputs": [],
   "source": [
    "def atualiza_q(Q, estado, acao, recompensa, prox_estado):\n",
    "    # para cada estado ainda não descoberto, iniciamos seu valor como nulo\n",
    "    if estado not in Q.keys(): Q[estado] = [0] * n_acoes\n",
    "    if prox_estado not in Q.keys(): Q[prox_estado] = [0] * n_acoes\n",
    "\n",
    "    # equação de Bellman\n",
    "    Q[estado][acao] = ..."
   ]
  },
  {
   "cell_type": "markdown",
   "metadata": {},
   "source": [
    "TODO: Explicar (brevemente?) pickle"
   ]
  },
  {
   "cell_type": "code",
   "execution_count": null,
   "metadata": {},
   "outputs": [],
   "source": [
    "import pickle\n",
    "\n",
    "def salva_tabela(Q, nome = 'model.pickle'):\n",
    "    with open(nome, 'wb') as pickle_out:\n",
    "        pickle.dump(Q, pickle_out)\n",
    "\n",
    "def carrega_tabela(nome = 'model.pickle'):\n",
    "    with open(nome, 'rb') as pickle_out:\n",
    "        return pickle.load(pickle_out)"
   ]
  },
  {
   "cell_type": "markdown",
   "metadata": {},
   "source": [
    "TODO: Explicar função de treinamento"
   ]
  },
  {
   "cell_type": "code",
   "execution_count": null,
   "metadata": {},
   "outputs": [],
   "source": [
    "def treina(env, Q):\n",
    "    retornos = []      # retorno de cada episódio\n",
    "    epsilon = EPSILON\n",
    "\n",
    "    for episodio in range(1, N_EPISODIOS+1):\n",
    "        # resetar o ambiente e discretizar a ação\n",
    "        ...\n",
    "        \n",
    "        done = False\n",
    "        retorno = 0\n",
    "        \n",
    "        while not done:\n",
    "            # escolher uma ação\n",
    "            ...\n",
    "\n",
    "            # tomar a ação\n",
    "            ...\n",
    "\n",
    "            # discretizar o próximo estado\n",
    "            ...\n",
    "\n",
    "            atualiza_q(Q, estado, acao, recompensa, prox_estado)\n",
    "\n",
    "            retorno += recompensa\n",
    "            estado = prox_estado\n",
    "\n",
    "        # calcular o próximo epsilon\n",
    "        epsilon = ...\n",
    "        epsilon = max(epsilon, EPSILON_MIN)\n",
    "\n",
    "        retornos.append(retorno)\n",
    "\n",
    "        if episodio % 10 == 0:\n",
    "            salva_tabela(Q)\n",
    "\n",
    "        print(f'episódio {episodio},  '\n",
    "              f'retorno {retorno:7.1f},  '\n",
    "              f'retorno médio (últimos 10 episódios) {np.mean(retornos[-10:]):7.1f},  '\n",
    "              f'placar {env.score[0]}x{env.score[1]},  '\n",
    "              f'epsilon: {epsilon:.3f}')\n",
    "        \n",
    "    env.close()"
   ]
  },
  {
   "cell_type": "code",
   "execution_count": null,
   "metadata": {
    "tags": []
   },
   "outputs": [],
   "source": [
    "treina(env, Q)"
   ]
  },
  {
   "cell_type": "markdown",
   "metadata": {},
   "source": [
    "## 🏓 Testando nosso Agente Treinado"
   ]
  },
  {
   "cell_type": "code",
   "execution_count": null,
   "metadata": {
    "tags": []
   },
   "outputs": [],
   "source": [
    "roda_partida(env, Q)"
   ]
  }
 ],
 "metadata": {
  "kernelspec": {
   "display_name": "Python 3",
   "language": "python",
   "name": "python3"
  },
  "language_info": {
   "codemirror_mode": {
    "name": "ipython",
    "version": 3
   },
   "file_extension": ".py",
   "mimetype": "text/x-python",
   "name": "python",
   "nbconvert_exporter": "python",
   "pygments_lexer": "ipython3",
   "version": "3.7.6"
  }
 },
 "nbformat": 4,
 "nbformat_minor": 4
}